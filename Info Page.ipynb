{
 "cells": [
  {
   "cell_type": "markdown",
   "id": "d7d17f8d-2739-4c90-818d-80ee536bd148",
   "metadata": {},
   "source": [
    "# GG4257 - Urban Analytics: A Toolkit for Sustainable Urban Development\n",
    "## Lab Assignment No 1: Handling and GeoVisualisation of Urban Data\n",
    "\n",
    "# General Information\n",
    "- **Matriculation No.:** 200022090\n",
    "- **Degree Programme:** Geography MA\n",
    "- **Deadline Date:** 14 March 2024 - Midday\n",
    "\n",
    "# GitHub Repository\n",
    "- **GitHub Link:** https://github.com/saffytaylor/UA_Assignment2\n",
    "\n",
    "# Declaration\n",
    "\n",
    "In submitting this assignment, I hereby confirm that I have read the University's statement on Good Academic Practice. The following work is my own. Significant academic debts and borrowings have been properly acknowledged and referenced."
   ]
  },
  {
   "cell_type": "markdown",
   "id": "bab817b2-23e0-4005-a410-8b00941cfb89",
   "metadata": {},
   "source": [
    "# Table of Content\n",
    "1. <a href=\"#Introduction\">Introduction</a>\n",
    "\n",
    "2. <a href=\"lab5.ipynb###Assignment-1\">Lab No 5: Python Recap</a>\n",
    "   - <a href=\"lab1/lab1.ipynb#Challenge-1:\">Challenge 1</a>\n",
    "   - <a href=\"lab1/lab1.ipynb#Challenge-2:\">Challenge 2</a>\n",
    "   - <a href=\"lab1/lab1.ipynb#Challenge-3:\">Challenge 3</a>\n",
    "   - <a href=\"lab1/lab1.ipynb#Challenge-4:\">Challenge 4</a>\n",
    "   - <a href=\"lab1/lab1.ipynb#Challenge-5:\">Challenge 5</a>\n",
    "   - <a href=\"lab1/lab1.ipynb#Challenge-6:\">Challenge 6</a>\n",
    "   - <a href=\"lab1/lab1.ipynb#Challenge-7:\">Challenge 7</a>\n",
    "   - <a href=\"lab1/lab1.ipynb#Challenge-8:\">Challenge 8</a>\n",
    "   - <a href=\"lab1/lab1.ipynb#Challenge-9:\">Challenge 9</a>\n",
    "\n",
    "\n",
    "\n",
    "3. <a href=\"lab2/lab2.ipynb###Assignment-1\">Lab No 2: Data Manipulation and Working with Web Services</a>\n",
    "   - <a href=\"lab2/lab2.ipynb#Challenge-1:\">Challenge 1</a>\n",
    "   - <a href=\"lab_2/lab_2.ipynb#Challenge-2:\">Challenge 2</a>\n",
    "\n",
    "\n",
    "\n",
    "4. <a href=\"lab3/lab3.ipynb###Assignment-1\">Lab No 3: Geovisualization Techniques - Data Viz - Part 1</a>\n",
    "   - <a href=\"lab3/lab3.ipynb#Challenge-1:\">Challenge 1</a>\n",
    "   - <a href=\"lab3/lab3.ipynb#Challenge-2:\">Challenge 2</a>\n",
    "   - <a href=\"lab3/lab3.ipynb#Challenge-3:\">Challenge 3</a>\n",
    "   - <a href=\"lab3/lab3.ipynb#Challenge-4:\">Challenge 4</a>\n",
    "\n",
    "\n"
   ]
  },
  {
   "cell_type": "markdown",
   "id": "8438fd07-d68f-4eb7-9b5c-2710afe610b5",
   "metadata": {},
   "source": [
    "# Introduction\n",
    "\n",
    "Welcome to this second Lab Assignment!\n",
    "To be able to run this code, the first thing you'll need to do is clone the repository onto your own drive, and launch it using whichever platform suits best, whether this be jupyter notebook or visual code studio, the world is your oyster! However, to run the code successfully, there is a little bit of data that need to be downloaded. All data required to run this code is stored in a public Google Drive folder, accessible by the url link below!\n",
    "\n",
    "URL: https://drive.google.com/drive/folders/1bx5e9z-xmr8qrrYtgBfxilTMvkd1UoJg?usp=drive_link\n",
    "\n",
    "To be able to use these files, you'll need to download the them from this folder. Each folder is labeled as the data for a particular lab, you will need to take each data folder and place it in it's corresponding lab folder within your cloned reposititory, and then it should all work fine! \n",
    "\n",
    "Happy coding!"
   ]
  },
  {
   "cell_type": "code",
   "execution_count": null,
   "id": "e006d4aa-7887-4305-92d2-5c15e7d08ffe",
   "metadata": {},
   "outputs": [],
   "source": []
  },
  {
   "cell_type": "code",
   "execution_count": null,
   "id": "ef2f7309-6188-4591-a538-5b56a20c9b5a",
   "metadata": {},
   "outputs": [],
   "source": []
  }
 ],
 "metadata": {
  "kernelspec": {
   "display_name": "Python 3 (ipykernel)",
   "language": "python",
   "name": "python3"
  },
  "language_info": {
   "codemirror_mode": {
    "name": "ipython",
    "version": 3
   },
   "file_extension": ".py",
   "mimetype": "text/x-python",
   "name": "python",
   "nbconvert_exporter": "python",
   "pygments_lexer": "ipython3",
   "version": "3.11.6"
  }
 },
 "nbformat": 4,
 "nbformat_minor": 5
}
